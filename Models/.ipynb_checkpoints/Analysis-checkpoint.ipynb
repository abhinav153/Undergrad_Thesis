{
 "cells": [
  {
   "cell_type": "code",
   "execution_count": 1,
   "id": "29025c1d",
   "metadata": {},
   "outputs": [
    {
     "name": "stdout",
     "output_type": "stream",
     "text": [
      "D:\\Desktop\\Undergrad_Thesis\n"
     ]
    }
   ],
   "source": [
    "cd .."
   ]
  },
  {
   "cell_type": "code",
   "execution_count": 8,
   "id": "4b67474a",
   "metadata": {},
   "outputs": [],
   "source": [
    "import numpy as np\n",
    "import pickle\n",
    "from sklearn.feature_selection import mutual_info_classif\n",
    "import pandas as pd\n",
    "import seaborn as sns\n",
    "from model import ANN,SVM,RF\n",
    "from torch import nn\n",
    "import torch\n",
    "import matplotlib.pyplot as plt\n",
    "from sklearn.metrics import confusion_matrix,ConfusionMatrixDisplay,classification_report\n",
    "from copy import deepcopy"
   ]
  },
  {
   "cell_type": "markdown",
   "id": "3c0e102e",
   "metadata": {},
   "source": [
    "## Load all data files\n"
   ]
  },
  {
   "cell_type": "code",
   "execution_count": 13,
   "id": "f5222ce1",
   "metadata": {},
   "outputs": [],
   "source": [
    "directory = 'Models/post_processed/'\n",
    "X_raw_50 = np.load(file=directory+'50/X_raw.npy')\n",
    "y_raw_50 = np.load(file=directory+'50/Y_raw.npy')\n",
    "X_filtered_50 = np.load(file=directory+'50/X_filtered.npy')\n",
    "y_filtered_50 = np.load(file=directory+'50/Y_filtered.npy')\n",
    "with open(directory+'50/labels','rb') as fp:\n",
    "    columns_50 = pickle.load(fp)\n",
    "    \n",
    "\n",
    "X_raw_100 = np.load(file=directory+'100/X_raw.npy')\n",
    "y_raw_100 = np.load(file=directory+'100/Y_raw.npy')\n",
    "X_filtered_100 = np.load(file=directory+'100/X_filtered.npy')\n",
    "y_filtered_100 = np.load(file=directory+'100/Y_filtered.npy')\n",
    "with open(directory+'100/labels','rb') as fp:\n",
    "    columns_100 = pickle.load(fp)\n",
    "   \n",
    "\n",
    "X_raw_150 = np.load(file=directory+'150/X_raw.npy')\n",
    "y_raw_150 = np.load(file=directory+'150/Y_raw.npy')\n",
    "X_filtered_150 = np.load(file=directory+'150/X_filtered.npy')\n",
    "y_filtered_150 = np.load(file=directory+'150/Y_filtered.npy')\n",
    "with open(directory+'150/labels','rb') as fp:\n",
    "    columns_150 = pickle.load(fp)\n",
    "    \n",
    "\n",
    "X_raw_200 = np.load(file=directory+'200/X_raw.npy')\n",
    "y_raw_200 = np.load(file=directory+'200/Y_raw.npy')\n",
    "X_filtered_200 = np.load(file=directory+'200/X_filtered.npy')\n",
    "y_filtered_200 = np.load(file=directory+'200/Y_filtered.npy')\n",
    "with open(directory+'200/labels','rb') as fp:\n",
    "    columns_200 = pickle.load(fp)\n",
    "    \n",
    "X_raw_250 = np.load(file=directory+'250/X_raw.npy')\n",
    "y_raw_250 = np.load(file=directory+'250/Y_raw.npy')\n",
    "X_filtered_250 = np.load(file=directory+'250/X_filtered.npy')\n",
    "y_filtered_250 = np.load(file=directory+'250/Y_filtered.npy')\n",
    "with open(directory+'250/labels','rb') as fp:\n",
    "    columns_250 = pickle.load(fp)\n",
    "    \n",
    "X_raw_300 = np.load(file=directory+'300/X_raw.npy')\n",
    "y_raw_300 = np.load(file=directory+'300/Y_raw.npy')\n",
    "X_filtered_300 = np.load(file=directory+'300/X_filtered.npy')\n",
    "y_filtered_300 = np.load(file=directory+'300/Y_filtered.npy')\n",
    "with open(directory+'200/labels','rb') as fp:\n",
    "    columns_300 = pickle.load(fp)\n",
    "    \n",
    "\n",
    "\n",
    "\n",
    "\n"
   ]
  },
  {
   "cell_type": "markdown",
   "id": "7bc8b218",
   "metadata": {},
   "source": [
    "## Analysis 1 "
   ]
  },
  {
   "cell_type": "markdown",
   "id": "d0275ae0",
   "metadata": {},
   "source": [
    "###  Visualize mutual information scores for each segment length"
   ]
  },
  {
   "cell_type": "code",
   "execution_count": null,
   "id": "1b4707fa",
   "metadata": {},
   "outputs": [],
   "source": [
    "mi_scores_raw_50 = mutual_info_classif(X_raw_50,y_raw_50.ravel())\n",
    "mi_scores_raw_50 = pd.Series(mi_scores_raw_50, name=\"Raw 50\", index=columns_50)\n",
    "mi_scores_filtered_50 = mutual_info_classif(X_filtered_50,y_filtered_50.ravel())\n",
    "mi_scores_filtered_50 = pd.Series(mi_scores_filtered_50,name=\"Filtered 50\",index=columns_50)\n",
    "\n",
    "mi_scores_raw_100 = mutual_info_classif(X_raw_100,y_raw_100.ravel())\n",
    "mi_scores_raw_100 = pd.Series(mi_scores_raw_100, name=\"Raw 100\", index=columns_100)\n",
    "mi_scores_filtered_100 = mutual_info_classif(X_filtered_100,y_filtered_100.ravel())\n",
    "mi_scores_filtered_100 = pd.Series(mi_scores_filtered_100,name=\"Filtered 100\",index=columns_100)\n",
    "\n",
    "mi_scores_raw_150 = mutual_info_classif(X_raw_150,y_raw_150.ravel())\n",
    "mi_scores_raw_150 = pd.Series(mi_scores_raw_150, name=\"Raw 150\", index=columns_150)\n",
    "mi_scores_filtered_150 = mutual_info_classif(X_filtered_150,y_filtered_150.ravel())\n",
    "mi_scores_filtered_150 = pd.Series(mi_scores_filtered_150,name=\"Filtered 150\",index=columns_150)\n",
    "\n",
    "mi_scores_raw_200 = mutual_info_classif(X_raw_200,y_raw_200.ravel())\n",
    "mi_scores_raw_200 = pd.Series(mi_scores_raw_200, name=\"Raw 200\", index=columns_200)\n",
    "mi_scores_filtered_200 = mutual_info_classif(X_filtered_200,y_filtered_200.ravel())\n",
    "mi_scores_filtered_200 = pd.Series(mi_scores_filtered_200,name=\"Filtered 200\",index=columns_200)\n",
    "\n",
    "mi_scores_raw_250 = mutual_info_classif(X_raw_250,y_raw_250.ravel())\n",
    "mi_scores_raw_250 = pd.Series(mi_scores_raw_250, name=\"Raw 250\", index=columns_250)\n",
    "mi_scores_filtered_250 = mutual_info_classif(X_filtered_250,y_filtered_250.ravel())\n",
    "mi_scores_filtered_250 = pd.Series(mi_scores_filtered_250,name=\"Filtered 200\",index=columns_250)\n",
    "\n",
    "mi_scores_raw_300 = mutual_info_classif(X_raw_300,y_raw_300.ravel())\n",
    "mi_scores_raw_300 = pd.Series(mi_scores_raw_300, name=\"Raw 300\", index=columns_300)\n",
    "mi_scores_filtered_300 = mutual_info_classif(X_filtered_300,y_filtered_300.ravel())\n",
    "mi_scores_filtered_300 = pd.Series(mi_scores_filtered_300,name=\"Filtered 300\",index=columns_300)\n",
    "\n"
   ]
  },
  {
   "cell_type": "code",
   "execution_count": null,
   "id": "e75c6edd",
   "metadata": {},
   "outputs": [],
   "source": [
    "df_mi_scores = pd.concat([mi_scores_raw_50,\n",
    "                          mi_scores_filtered_50,\n",
    "                          mi_scores_raw_100,\n",
    "                          mi_scores_filtered_100,\n",
    "                          mi_scores_raw_150,\n",
    "                          mi_scores_filtered_150,\n",
    "                          mi_scores_raw_200,\n",
    "                          mi_scores_filtered_200,\n",
    "                          mi_scores_raw_250,\n",
    "                          mi_scores_filtered_250,\n",
    "                          mi_scores_raw_300,\n",
    "                          mi_scores_filtered_300,],axis=1)\n",
    "df_mi_scores"
   ]
  },
  {
   "cell_type": "code",
   "execution_count": null,
   "id": "07b6a0b9",
   "metadata": {},
   "outputs": [],
   "source": [
    "sns.heatmap(df_mi_scores,)"
   ]
  },
  {
   "cell_type": "markdown",
   "id": "77cd24d6",
   "metadata": {},
   "source": [
    "## Analysis 2"
   ]
  },
  {
   "cell_type": "markdown",
   "id": "649a6fe2",
   "metadata": {},
   "source": [
    "### Visualize Model Performances"
   ]
  },
  {
   "cell_type": "markdown",
   "id": "ab72350b",
   "metadata": {},
   "source": [
    "#### Training Artificial Neural Net (With All Features)"
   ]
  },
  {
   "cell_type": "code",
   "execution_count": 14,
   "id": "9397d750",
   "metadata": {},
   "outputs": [],
   "source": [
    "#Initializing models\n",
    "ann_50_raw = ANN(X_raw_50,y_raw_50,'ANN 50 Raw')\n",
    "ann_50_filtered = ANN(X_filtered_50,y_filtered_50,'ANN 50 Filtered')\n",
    "ann_100_raw = ANN(X_raw_100,y_filtered_100,'ANN 100 Raw')\n",
    "ann_100_filtered = ANN(X_filtered_100,y_raw_100,'ANN 100 Filtered')\n",
    "ann_150_raw = ANN(X_raw_150,y_raw_150,'ANN 150 Raw')\n",
    "ann_150_filtered = ANN(X_filtered_150,y_filtered_150,'ANN 150 Filtered')\n",
    "ann_200_raw = ANN(X_raw_200,y_raw_200,'ANN 200 Raw')\n",
    "ann_200_filtered = ANN(X_filtered_200,y_filtered_200,'ANN 200 FIltered')\n",
    "ann_250_raw = ANN(X_raw_250,y_raw_250,'ANN 250 Raw')\n",
    "ann_250_filtered = ANN(X_filtered_250,y_filtered_250,'ANN 250 FIltered')\n",
    "ann_300_raw = ANN(X_raw_300,y_raw_300,'ANN 300 Raw')\n",
    "ann_300_filtered = ANN(X_filtered_300,y_filtered_300,'ANN 300 FIltered')\n",
    "\n",
    "svc_50_raw = SVM(X_raw_50,y_raw_50,'SVC 50 Raw')\n",
    "svc_50_filtered = SVM(X_filtered_50,y_filtered_50,'SVC 50 Filtered')\n",
    "svc_100_raw = SVM(X_raw_100,y_filtered_100,'SVC 100 Raw')\n",
    "svc_100_filtered = SVM(X_filtered_100,y_raw_100,'SVC 100 Filtered')\n",
    "svc_150_raw = SVM(X_raw_150,y_raw_150,'SVC 150 Raw')\n",
    "svc_150_filtered = SVM(X_filtered_150,y_filtered_150,'SVC 150 Filtered')\n",
    "svc_200_raw = SVM(X_raw_200,y_raw_200,'SVC 200 Raw')\n",
    "svc_200_filtered = SVM(X_filtered_200,y_filtered_200,'SVC 200 FIltered')\n",
    "svc_250_raw = SVM(X_raw_250,y_raw_250,'SVC 250 Raw')\n",
    "svc_250_filtered = SVM(X_filtered_250,y_filtered_250,'SVC 250 FIltered')\n",
    "svc_300_raw = SVM(X_raw_300,y_raw_300,'SVC 300 Raw')\n",
    "svc_300_filtered = SVM(X_filtered_300,y_filtered_300,'SVC 300 FIltered')\n",
    "\n",
    "rf_50_raw = RF(X_raw_50,y_raw_50,'RF 50 Raw')\n",
    "rf_50_filtered = RF(X_filtered_50,y_filtered_50,'RF 50 Filtered')\n",
    "rf_100_raw = RF(X_raw_100,y_filtered_100,'RF 100 Raw')\n",
    "rf_100_filtered = RF(X_filtered_100,y_raw_100,'RF 100 Filtered')\n",
    "rf_150_raw = RF(X_raw_150,y_raw_150,'RF 150 Raw')\n",
    "rf_150_filtered = RF(X_filtered_150,y_filtered_150,'RF 150 Filtered')\n",
    "rf_200_raw = RF(X_raw_200,y_raw_200,'RF 200 Raw')\n",
    "rf_200_filtered = RF(X_filtered_200,y_filtered_200,'RF 200 FIltered')\n",
    "rf_250_raw = RF(X_raw_250,y_raw_250,'RF 250 Raw')\n",
    "rf_250_filtered = RF(X_filtered_250,y_filtered_250,'RF 250 FIltered')\n",
    "rf_300_raw = RF(X_raw_300,y_raw_300,'RF 300 Raw')\n",
    "rf_300_filtered = RF(X_filtered_300,y_filtered_300,'RF 300 FIltered')"
   ]
  },
  {
   "cell_type": "code",
   "execution_count": 5,
   "id": "3de6138a",
   "metadata": {},
   "outputs": [
    {
     "name": "stdout",
     "output_type": "stream",
     "text": [
      "Now Training for window length:50 Raw & Filtered\n",
      "Training Raw\n",
      "Fold 1:\n",
      "Fold 2:\n",
      "Fold 3:\n",
      "Fold 4:\n",
      "Fold 5:\n",
      "Training Filtered\n",
      "Fold 1:\n",
      "Fold 2:\n",
      "Fold 3:\n",
      "Fold 4:\n",
      "Fold 5:\n"
     ]
    },
    {
     "data": {
      "text/plain": [
       "'\\nprint(f\"Now Training for window length:100 Raw & Filtered\")\\nprint(\\'Training Raw\\')\\nval_100_raw_losses = ann_100_raw.train()\\nprint(\\'Training Filtered\\')\\nval_100_filtered_losses = ann_100_filtered.train()\\ntest_accuracy_100_raw = ann_100_raw.test()\\ntest_accuracy_100_filtered = ann_100_filtered.test()\\n\\nprint(f\"Now Training for window length:150 Raw & Filtered\")\\nprint(\\'Training Raw\\')\\nval_150_raw_losses = ann_150_raw.train()\\nprint(\\'Training Filtered\\')\\nval_150_filtered_losses = ann_150_filtered.train()\\ntest_accuracy_150_raw = ann_150_raw.test()\\ntest_accuracy_150_filtered = ann_150_filtered.test()\\n\\nprint(f\"Now Training for window length:200 Raw & Filtered\")\\nprint(\\'Training Raw\\')\\nval_200_raw_losses = ann_200_raw.train()\\nprint(\\'Training Filtered\\')\\nval_200_filtered_losses = ann_200_filtered.train()\\ntest_accuracy_200_raw = ann_200_raw.test()\\ntest_accuracy_200_filtered = ann_200_filtered.test()\\n\\nprint(f\"Now Training for window length:250 Raw & Filtered\")\\nprint(\\'Training Raw\\')\\nval_250_raw_losses = ann_250_raw.train()\\nprint(\\'Training Filtered\\')\\nval_250_filtered_losses = ann_250_filtered.train()\\ntest_accuracy_250_raw = ann_250_raw.test()\\ntest_accuracy_250_filtered = ann_250_filtered.test()\\n\\nprint(f\"Now Training for window length:300 Raw & Filtered\")\\nprint(\\'Training Raw\\')\\nval_300_raw_losses = ann_300_raw.train()\\nprint(\\'Training Filtered\\')\\nval_300_filtered_losses = ann_300_filtered.train()\\ntest_accuracy_300_raw = ann_300_raw.test()\\ntest_accuracy_300_filtered = ann_300_filtered.test()\\n'"
      ]
     },
     "execution_count": 5,
     "metadata": {},
     "output_type": "execute_result"
    }
   ],
   "source": [
    "print(f\"Now Training for window length:50 Raw & Filtered\")\n",
    "print('Training Raw')\n",
    "val_50_raw_losses = ann_50_raw.train()\n",
    "print('Training Filtered')\n",
    "val_50_filtered_losses = ann_50_filtered.train()\n",
    "test_accuracy_50_raw = ann_50_raw.test()\n",
    "test_accuracy_50_filtered = ann_50_filtered.test()\n",
    "'''\n",
    "print(f\"Now Training for window length:100 Raw & Filtered\")\n",
    "print('Training Raw')\n",
    "val_100_raw_losses = ann_100_raw.train()\n",
    "print('Training Filtered')\n",
    "val_100_filtered_losses = ann_100_filtered.train()\n",
    "test_accuracy_100_raw = ann_100_raw.test()\n",
    "test_accuracy_100_filtered = ann_100_filtered.test()\n",
    "\n",
    "print(f\"Now Training for window length:150 Raw & Filtered\")\n",
    "print('Training Raw')\n",
    "val_150_raw_losses = ann_150_raw.train()\n",
    "print('Training Filtered')\n",
    "val_150_filtered_losses = ann_150_filtered.train()\n",
    "test_accuracy_150_raw = ann_150_raw.test()\n",
    "test_accuracy_150_filtered = ann_150_filtered.test()\n",
    "\n",
    "print(f\"Now Training for window length:200 Raw & Filtered\")\n",
    "print('Training Raw')\n",
    "val_200_raw_losses = ann_200_raw.train()\n",
    "print('Training Filtered')\n",
    "val_200_filtered_losses = ann_200_filtered.train()\n",
    "test_accuracy_200_raw = ann_200_raw.test()\n",
    "test_accuracy_200_filtered = ann_200_filtered.test()\n",
    "\n",
    "print(f\"Now Training for window length:250 Raw & Filtered\")\n",
    "print('Training Raw')\n",
    "val_250_raw_losses = ann_250_raw.train()\n",
    "print('Training Filtered')\n",
    "val_250_filtered_losses = ann_250_filtered.train()\n",
    "test_accuracy_250_raw = ann_250_raw.test()\n",
    "test_accuracy_250_filtered = ann_250_filtered.test()\n",
    "\n",
    "print(f\"Now Training for window length:300 Raw & Filtered\")\n",
    "print('Training Raw')\n",
    "val_300_raw_losses = ann_300_raw.train()\n",
    "print('Training Filtered')\n",
    "val_300_filtered_losses = ann_300_filtered.train()\n",
    "test_accuracy_300_raw = ann_300_raw.test()\n",
    "test_accuracy_300_filtered = ann_300_filtered.test()\n",
    "'''"
   ]
  },
  {
   "cell_type": "code",
   "execution_count": 8,
   "id": "5ff66874",
   "metadata": {},
   "outputs": [
    {
     "name": "stdout",
     "output_type": "stream",
     "text": [
      "0.36730437122928206\n"
     ]
    }
   ],
   "source": [
    "print(test_accuracy_50_filtered)"
   ]
  },
  {
   "cell_type": "code",
   "execution_count": 15,
   "id": "7eae36ea",
   "metadata": {},
   "outputs": [
    {
     "name": "stdout",
     "output_type": "stream",
     "text": [
      "Now Training for window length:50 Raw & Filtered\n",
      "Training Raw\n",
      "Training Filtered\n",
      "SVC 50 Raw  Test Accuracy:0.6274474622647856\n",
      "SVC 50 Filtered  Test Accuracy:0.600982349115213\n",
      "Now Training for window length:50 Raw & Filtered\n",
      "Training Raw\n",
      "Training Filtered\n",
      "SVC 100 Raw  Test Accuracy:0.6396906752989839\n",
      "SVC 100 Filtered  Test Accuracy:0.6144681233702005\n",
      "Now Training for window length:50 Raw & Filtered\n",
      "Training Raw\n",
      "Training Filtered\n",
      "SVC 150 Raw  Test Accuracy:0.644895199459094\n",
      "SVC 150 Filtered  Test Accuracy:0.6162947937795809\n",
      "Now Training for window length:50 Raw & Filtered\n",
      "Training Raw\n",
      "Training Filtered\n",
      "SVC 200 Raw  Test Accuracy:0.6420433996383363\n",
      "SVC 200 FIltered  Test Accuracy:0.6141048824593128\n",
      "Now Training for window length:50 Raw & Filtered\n",
      "Training Raw\n",
      "Training Filtered\n",
      "SVC 250 Raw  Test Accuracy:0.6355701654953525\n",
      "SVC 250 FIltered  Test Accuracy:0.6200408070732261\n",
      "Now Training for window length:50 Raw & Filtered\n",
      "Training Raw\n",
      "Training Filtered\n",
      "SVC 300 Raw  Test Accuracy:0.6269592476489029\n",
      "SVC 300 FIltered  Test Accuracy:0.6155104266048794\n"
     ]
    },
    {
     "data": {
      "text/plain": [
       "0.6155104266048794"
      ]
     },
     "execution_count": 15,
     "metadata": {},
     "output_type": "execute_result"
    }
   ],
   "source": [
    "print(f\"Now Training for window length:50 Raw & Filtered\")\n",
    "print('Training Raw')\n",
    "svc_50_raw.train()\n",
    "print('Training Filtered')\n",
    "svc_50_filtered.train()\n",
    "test_accuracy_50_raw = svc_50_raw.test()\n",
    "test_accuracy_50_filtered = svc_50_filtered.test()\n",
    "\n",
    "\n",
    "print(f\"Now Training for window length:50 Raw & Filtered\")\n",
    "print('Training Raw')\n",
    "svc_100_raw.train()\n",
    "print('Training Filtered')\n",
    "svc_100_filtered.train()\n",
    "svc_100_raw.test()\n",
    "svc_100_filtered.test()\n",
    "\n",
    "print(f\"Now Training for window length:50 Raw & Filtered\")\n",
    "print('Training Raw')\n",
    "svc_150_raw.train()\n",
    "print('Training Filtered')\n",
    "svc_150_filtered.train()\n",
    "svc_150_raw.test()\n",
    "svc_150_filtered.test()\n",
    "\n",
    "print(f\"Now Training for window length:50 Raw & Filtered\")\n",
    "print('Training Raw')\n",
    "svc_200_raw.train()\n",
    "print('Training Filtered')\n",
    "svc_200_filtered.train()\n",
    "svc_200_raw.test()\n",
    "svc_200_filtered.test()\n",
    "\n",
    "print(f\"Now Training for window length:50 Raw & Filtered\")\n",
    "print('Training Raw')\n",
    "svc_250_raw.train()\n",
    "print('Training Filtered')\n",
    "svc_250_filtered.train()\n",
    "svc_250_raw.test()\n",
    "svc_250_filtered.test()\n",
    "\n",
    "print(f\"Now Training for window length:50 Raw & Filtered\")\n",
    "print('Training Raw')\n",
    "svc_300_raw.train()\n",
    "print('Training Filtered')\n",
    "svc_300_filtered.train()\n",
    "svc_300_raw.test()\n",
    "svc_300_filtered.test()\n",
    "\n",
    "\n",
    "\n"
   ]
  },
  {
   "cell_type": "code",
   "execution_count": 16,
   "id": "12218084",
   "metadata": {},
   "outputs": [
    {
     "name": "stdout",
     "output_type": "stream",
     "text": [
      "Now Training for window length:50 Raw & Filtered\n",
      "Training Raw\n",
      "Training Filtered\n",
      "RF 50 Raw  Test Accuracy:0.6918160001794245\n",
      "RF 50 Filtered  Test Accuracy:0.6795702783322493\n",
      "Now Training for window length:50 Raw & Filtered\n",
      "Training Raw\n",
      "Training Filtered\n",
      "RF 100 Raw  Test Accuracy:0.7288912867547882\n",
      "RF 100 Filtered  Test Accuracy:0.6973293768545994\n",
      "Now Training for window length:50 Raw & Filtered\n",
      "Training Raw\n",
      "Training Filtered\n",
      "RF 150 Raw  Test Accuracy:0.7350912778904666\n",
      "RF 150 Filtered  Test Accuracy:0.7144016227180527\n",
      "Now Training for window length:50 Raw & Filtered\n",
      "Training Raw\n",
      "Training Filtered\n",
      "RF 200 Raw  Test Accuracy:0.7267631103074141\n",
      "RF 200 FIltered  Test Accuracy:0.7091320072332731\n",
      "Now Training for window length:50 Raw & Filtered\n",
      "Training Raw\n",
      "Training Filtered\n",
      "RF 250 Raw  Test Accuracy:0.7352074359555656\n",
      "RF 250 FIltered  Test Accuracy:0.7158240761732033\n",
      "Now Training for window length:50 Raw & Filtered\n",
      "Training Raw\n",
      "Training Filtered\n",
      "RF 300 Raw  Test Accuracy:0.7328608423061197\n",
      "RF 300 FIltered  Test Accuracy:0.711735041570124\n"
     ]
    },
    {
     "data": {
      "text/plain": [
       "0.711735041570124"
      ]
     },
     "execution_count": 16,
     "metadata": {},
     "output_type": "execute_result"
    }
   ],
   "source": [
    "print(f\"Now Training for window length:50 Raw & Filtered\")\n",
    "print('Training Raw')\n",
    "rf_50_raw.train()\n",
    "print('Training Filtered')\n",
    "rf_50_filtered.train()\n",
    "test_accuracy_50_raw = rf_50_raw.test()\n",
    "test_accuracy_50_filtered = rf_50_filtered.test()\n",
    "\n",
    "\n",
    "print(f\"Now Training for window length:50 Raw & Filtered\")\n",
    "print('Training Raw')\n",
    "rf_100_raw.train()\n",
    "print('Training Filtered')\n",
    "rf_100_filtered.train()\n",
    "rf_100_raw.test()\n",
    "rf_100_filtered.test()\n",
    "\n",
    "print(f\"Now Training for window length:50 Raw & Filtered\")\n",
    "print('Training Raw')\n",
    "rf_150_raw.train()\n",
    "print('Training Filtered')\n",
    "rf_150_filtered.train()\n",
    "rf_150_raw.test()\n",
    "rf_150_filtered.test()\n",
    "\n",
    "print(f\"Now Training for window length:50 Raw & Filtered\")\n",
    "print('Training Raw')\n",
    "rf_200_raw.train()\n",
    "print('Training Filtered')\n",
    "rf_200_filtered.train()\n",
    "rf_200_raw.test()\n",
    "rf_200_filtered.test()\n",
    "\n",
    "print(f\"Now Training for window length:50 Raw & Filtered\")\n",
    "print('Training Raw')\n",
    "rf_250_raw.train()\n",
    "print('Training Filtered')\n",
    "rf_250_filtered.train()\n",
    "rf_250_raw.test()\n",
    "rf_250_filtered.test()\n",
    "\n",
    "print(f\"Now Training for window length:50 Raw & Filtered\")\n",
    "print('Training Raw')\n",
    "rf_300_raw.train()\n",
    "print('Training Filtered')\n",
    "rf_300_filtered.train()\n",
    "rf_300_raw.test()\n",
    "rf_300_filtered.test()"
   ]
  },
  {
   "cell_type": "markdown",
   "id": "8b797b8c",
   "metadata": {},
   "source": [
    "#### Ploting losses"
   ]
  },
  {
   "cell_type": "code",
   "execution_count": null,
   "id": "193d1374",
   "metadata": {},
   "outputs": [],
   "source": [
    "#ploting validation losses during the training phase\n",
    "labels = list(val_50_raw_losses.keys())\n",
    "plt.xticks(rotation=90)\n",
    "plt.plot(labels,list(val_50_raw_losses.values()),label = '50_raw')\n",
    "plt.plot(labels,list(val_50_filtered_losses.values()),label = '50 filtered')\n",
    "\n",
    "plt.plot(labels,list(val_100_raw_losses.values()),label = '100_raw')\n",
    "plt.plot(labels,list(val_100_filtered_losses.values()),label = '100 filtered')\n",
    "\n",
    "plt.plot(labels,list(val_150_raw_losses.values()),label = '150_raw')\n",
    "plt.plot(labels,list(val_150_filtered_losses.values()),label = '150 filtered')\n",
    "\n",
    "plt.plot(labels,list(val_200_raw_losses.values()),label = '200_raw')\n",
    "plt.plot(labels,list(val_200_filtered_losses.values()),label = '200 filtered')\n",
    "\n",
    "plt.plot(labels,list(val_250_raw_losses.values()),label = '250_raw')\n",
    "plt.plot(labels,list(val_250_filtered_losses.values()),label = '250 filtered')\n",
    "\n",
    "plt.plot(labels,list(val_300_raw_losses.values()),label = '300_raw')\n",
    "plt.plot(labels,list(val_300_filtered_losses.values()),label = '300 filtered')\n",
    "\n",
    "plt.legend(bbox_to_anchor=(1.02, 0.1), loc='upper left', borderaxespad=0)\n",
    "plt.title('Validation Loss during Training')\n",
    "\n",
    "\n"
   ]
  },
  {
   "cell_type": "code",
   "execution_count": null,
   "id": "98885865",
   "metadata": {},
   "outputs": [],
   "source": [
    "#plotting training accuracy\n",
    "labels = ['50_raw','50_filtered','100_raw','100_filtered','150_raw','150_filtered','200_raw','200_filtered','250_raw','250_filtered','300_raw','300_filtered']\n",
    "plt.xticks(rotation=90)\n",
    "y = [test_accuracy_50_raw,\n",
    "     test_accuracy_50_filtered,\n",
    "     test_accuracy_100_raw,\n",
    "     test_accuracy_100_filtered,\n",
    "     test_accuracy_150_raw,\n",
    "     test_accuracy_150_filtered,\n",
    "     test_accuracy_200_raw,\n",
    "     test_accuracy_200_filtered,\n",
    "     test_accuracy_250_raw,\n",
    "     test_accuracy_250_filtered,\n",
    "     test_accuracy_300_raw,\n",
    "     test_accuracy_300_filtered]\n",
    "plt.barh(labels,y)\n",
    "plt.title('Test Accuracy')"
   ]
  },
  {
   "cell_type": "code",
   "execution_count": 12,
   "id": "6da52e7e",
   "metadata": {},
   "outputs": [
    {
     "ename": "TypeError",
     "evalue": "'RandomForestClassifier' object is not callable",
     "output_type": "error",
     "traceback": [
      "\u001b[1;31m---------------------------------------------------------------------------\u001b[0m",
      "\u001b[1;31mTypeError\u001b[0m                                 Traceback (most recent call last)",
      "\u001b[1;32m~\\AppData\\Local\\Temp\\ipykernel_3664\\1212772355.py\u001b[0m in \u001b[0;36m<module>\u001b[1;34m\u001b[0m\n\u001b[0;32m     14\u001b[0m     \u001b[0mdisplay\u001b[0m\u001b[1;33m.\u001b[0m\u001b[0mplot\u001b[0m\u001b[1;33m(\u001b[0m\u001b[1;33m)\u001b[0m\u001b[1;33m\u001b[0m\u001b[1;33m\u001b[0m\u001b[0m\n\u001b[0;32m     15\u001b[0m \u001b[1;33m\u001b[0m\u001b[0m\n\u001b[1;32m---> 16\u001b[1;33m \u001b[0mget_confusion_matrix\u001b[0m\u001b[1;33m(\u001b[0m\u001b[0mX_raw_50\u001b[0m\u001b[1;33m,\u001b[0m\u001b[0my_raw_50\u001b[0m\u001b[1;33m,\u001b[0m\u001b[0mrf_50_raw\u001b[0m\u001b[1;33m)\u001b[0m\u001b[1;33m\u001b[0m\u001b[1;33m\u001b[0m\u001b[0m\n\u001b[0m\u001b[0;32m     17\u001b[0m \u001b[0mget_confusion_matrix\u001b[0m\u001b[1;33m(\u001b[0m\u001b[0mX_filtered_100\u001b[0m\u001b[1;33m,\u001b[0m\u001b[0my_raw_100\u001b[0m\u001b[1;33m,\u001b[0m\u001b[0mrf_100_filtered\u001b[0m\u001b[1;33m)\u001b[0m\u001b[1;33m\u001b[0m\u001b[1;33m\u001b[0m\u001b[0m\n\u001b[0;32m     18\u001b[0m \u001b[0mget_confusion_matrix\u001b[0m\u001b[1;33m(\u001b[0m\u001b[0mX_filtered_150\u001b[0m\u001b[1;33m,\u001b[0m\u001b[0my_raw_150\u001b[0m\u001b[1;33m,\u001b[0m\u001b[0mrf_150_filtered\u001b[0m\u001b[1;33m)\u001b[0m\u001b[1;33m\u001b[0m\u001b[1;33m\u001b[0m\u001b[0m\n",
      "\u001b[1;32m~\\AppData\\Local\\Temp\\ipykernel_3664\\1212772355.py\u001b[0m in \u001b[0;36mget_confusion_matrix\u001b[1;34m(X, y_true, model)\u001b[0m\n\u001b[0;32m      2\u001b[0m \u001b[1;32mdef\u001b[0m \u001b[0mget_confusion_matrix\u001b[0m\u001b[1;33m(\u001b[0m\u001b[0mX\u001b[0m\u001b[1;33m,\u001b[0m\u001b[0my_true\u001b[0m\u001b[1;33m,\u001b[0m\u001b[0mmodel\u001b[0m\u001b[1;33m)\u001b[0m\u001b[1;33m:\u001b[0m\u001b[1;33m\u001b[0m\u001b[1;33m\u001b[0m\u001b[0m\n\u001b[0;32m      3\u001b[0m     \u001b[0mX\u001b[0m \u001b[1;33m=\u001b[0m \u001b[0mtorch\u001b[0m\u001b[1;33m.\u001b[0m\u001b[0mfrom_numpy\u001b[0m\u001b[1;33m(\u001b[0m\u001b[0mX\u001b[0m\u001b[1;33m)\u001b[0m\u001b[1;33m.\u001b[0m\u001b[0mfloat\u001b[0m\u001b[1;33m(\u001b[0m\u001b[1;33m)\u001b[0m\u001b[1;33m\u001b[0m\u001b[1;33m\u001b[0m\u001b[0m\n\u001b[1;32m----> 4\u001b[1;33m     \u001b[0moutput\u001b[0m \u001b[1;33m=\u001b[0m \u001b[0mmodel\u001b[0m\u001b[1;33m.\u001b[0m\u001b[0mmodel\u001b[0m\u001b[1;33m(\u001b[0m\u001b[0mX\u001b[0m\u001b[1;33m)\u001b[0m\u001b[1;33m\u001b[0m\u001b[1;33m\u001b[0m\u001b[0m\n\u001b[0m\u001b[0;32m      5\u001b[0m     \u001b[0margmax\u001b[0m \u001b[1;33m=\u001b[0m \u001b[0mtorch\u001b[0m\u001b[1;33m.\u001b[0m\u001b[0margmax\u001b[0m\u001b[1;33m(\u001b[0m\u001b[0moutput\u001b[0m\u001b[1;33m,\u001b[0m\u001b[0mdim\u001b[0m\u001b[1;33m=\u001b[0m\u001b[1;36m1\u001b[0m\u001b[1;33m)\u001b[0m\u001b[1;33m\u001b[0m\u001b[1;33m\u001b[0m\u001b[0m\n\u001b[0;32m      6\u001b[0m     \u001b[0mpredictions\u001b[0m \u001b[1;33m=\u001b[0m \u001b[0mdeepcopy\u001b[0m\u001b[1;33m(\u001b[0m\u001b[0margmax\u001b[0m\u001b[1;33m)\u001b[0m\u001b[1;33m\u001b[0m\u001b[1;33m\u001b[0m\u001b[0m\n",
      "\u001b[1;31mTypeError\u001b[0m: 'RandomForestClassifier' object is not callable"
     ]
    }
   ],
   "source": [
    "#plot confusion matrix\n",
    "def get_confusion_matrix_ann(X,y_true,model):\n",
    "    X = torch.from_numpy(X).float()\n",
    "    output = model.model(X)\n",
    "    argmax = torch.argmax(output,dim=1)\n",
    "    predictions = deepcopy(argmax)\n",
    "    print(model.categories)\n",
    "    for i in range(len(argmax)):\n",
    "        index = argmax[i]\n",
    "        predictions[i] = model.categories[index]\n",
    "    cm = confusion_matrix(y_true,predictions,labels=model.categories)\n",
    "    display = ConfusionMatrixDisplay(cm,display_labels=[int(i) for i in model.categories])\n",
    "    print('Confusion Matrix for ',model.name)\n",
    "    display.plot()\n",
    "    \n",
    "def get_confusion_matrix(X,y_true,model):\n",
    "    output = model.predict(X)\n",
    "    cm = confusion_matrix(y_true,predictions,labels=model.categories)\n",
    "    display = ConfusionMatrixDisplay(cm,display_labels=[int(i) for i in model.categories])\n",
    "    print('Confusion Matrix for ',model.name)\n",
    "    display.plot()\n",
    "\n",
    "get_confusion_matrix(X_raw_50,y_raw_50,rf_50_raw)\n",
    "get_confusion_matrix(X_filtered_100,y_raw_100,rf_100_filtered)\n",
    "get_confusion_matrix(X_filtered_150,y_raw_150,rf_150_filtered)\n",
    "get_confusion_matrix(X_filtered_200,y_raw_200,rf_200_filtered)\n",
    "get_confusion_matrix(X_filtered_250,y_raw_250,rf_250_filtered)\n",
    "get_confusion_matrix(X_filtered_300,y_raw_300,rf_300_filtered)\n",
    "plt.xticks(rotation=90) \n"
   ]
  },
  {
   "cell_type": "code",
   "execution_count": null,
   "id": "d70fdd39",
   "metadata": {},
   "outputs": [],
   "source": [
    "#plot classification report\n",
    "def get_classification_report(X,y_true,model,):\n",
    "    X = torch.from_numpy(X).float()\n",
    "    output = model.model(X)\n",
    "    argmax = torch.argmax(output,dim=1)\n",
    "    predictions = deepcopy(argmax)\n",
    "    print(model.categories)\n",
    "    for i in range(len(argmax)):\n",
    "        index = argmax[i]\n",
    "        predictions[i] = model.categories[index]\n",
    "    cr = classification_report(y_true,predictions,target_names=[str(int(i)) for i in model.categories])\n",
    "    print('Classification Report for ',model.name)\n",
    "    print(cr)\n",
    "get_classification_report(X_raw_50,y_raw_50,ann_50_raw)\n",
    "get_classification_report(X_filtered_50,y_filtered_50,ann_50_filtered)\n",
    "get_classification_report(X_raw_100,y_raw_100,ann_100_raw)\n",
    "get_classification_report(X_filtered_100,y_filtered_100,ann_100_filtered)\n",
    "get_classification_report(X_raw_150,y_raw_150,ann_150_raw)\n",
    "get_classification_report(X_filtered_150,y_filtered_150,ann_150_filtered)\n",
    "get_classification_report(X_raw_200,y_raw_200,ann_200_raw)\n",
    "get_classification_report(X_filtered_50,y_filtered_50,ann_50_filtered)\n",
    "    "
   ]
  },
  {
   "cell_type": "code",
   "execution_count": null,
   "id": "8dc851fb",
   "metadata": {},
   "outputs": [],
   "source": [
    "torch.cuda.is_available()"
   ]
  },
  {
   "cell_type": "code",
   "execution_count": null,
   "id": "5b3a95f3",
   "metadata": {},
   "outputs": [],
   "source": []
  }
 ],
 "metadata": {
  "kernelspec": {
   "display_name": "Python 3 (ipykernel)",
   "language": "python",
   "name": "python3"
  },
  "language_info": {
   "codemirror_mode": {
    "name": "ipython",
    "version": 3
   },
   "file_extension": ".py",
   "mimetype": "text/x-python",
   "name": "python",
   "nbconvert_exporter": "python",
   "pygments_lexer": "ipython3",
   "version": "3.7.16"
  }
 },
 "nbformat": 4,
 "nbformat_minor": 5
}
