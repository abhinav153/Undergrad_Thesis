{
 "cells": [
  {
   "cell_type": "code",
   "execution_count": 1,
   "id": "29025c1d",
   "metadata": {},
   "outputs": [
    {
     "name": "stdout",
     "output_type": "stream",
     "text": [
      "D:\\Desktop\\Undergrad_Thesis\n"
     ]
    }
   ],
   "source": [
    "cd .."
   ]
  },
  {
   "cell_type": "code",
   "execution_count": 2,
   "id": "4b67474a",
   "metadata": {},
   "outputs": [
    {
     "name": "stderr",
     "output_type": "stream",
     "text": [
      "Intel(R) Extension for Scikit-learn* enabled (https://github.com/intel/scikit-learn-intelex)\n"
     ]
    }
   ],
   "source": [
    "import numpy as np\n",
    "import pickle\n",
    "from sklearn.feature_selection import mutual_info_classif\n",
    "import pandas as pd\n",
    "import seaborn as sns\n",
    "from model import ANN,SVM,RF\n",
    "from torch import nn\n",
    "import torch\n",
    "from torchsummary import summary\n",
    "import matplotlib.pyplot as plt\n",
    "from sklearn.metrics import confusion_matrix,ConfusionMatrixDisplay,classification_report\n",
    "from copy import deepcopy"
   ]
  },
  {
   "cell_type": "code",
   "execution_count": 3,
   "id": "a8545b8c",
   "metadata": {},
   "outputs": [],
   "source": [
    "#label mappings\n",
    "label_mappings = {\n",
    "        1: 'Inner Brow Raiser(1)', \n",
    "        2: 'Outer Brow Raiser(2)',\n",
    "        4: 'Brow Lowerer(4)',\n",
    "        5: 'Upper Lid Raiser(5)',\n",
    "        6: 'Cheek Raiser(6)',\n",
    "        7: 'Lid Tightener(7)',\n",
    "        9: 'Nose Wrinkler(9)',\n",
    "        10: 'Upper Lip Raiser(10)',\n",
    "        12: 'Lip Corner Puller(12)',\n",
    "        14: 'Dimpler(14)',\n",
    "        15: 'Lip Corner Depressor(15)',\n",
    "        17: 'Chin Raiser(17)',\n",
    "        18: 'Lip Puckerer(18)',\n",
    "        20: 'Lip Stretcher(20)',\n",
    "        23: 'Lip Tightener(23)',\n",
    "        24: 'Lip Pressor(24)',\n",
    "        25: 'Lips Part(25)',\n",
    "        26: 'Jaw Drop(26)',\n",
    "        43: 'Eyes Closed(43)'\n",
    "}"
   ]
  },
  {
   "cell_type": "markdown",
   "id": "3c0e102e",
   "metadata": {},
   "source": [
    "## Load all data files\n"
   ]
  },
  {
   "cell_type": "code",
   "execution_count": 4,
   "id": "f5222ce1",
   "metadata": {},
   "outputs": [],
   "source": [
    "directory = 'Models/post_processed/'\n",
    "X_raw_50 = np.load(file=directory+'50/X_raw.npy')\n",
    "y_raw_50 = np.load(file=directory+'50/Y_raw.npy')\n",
    "X_filtered_50 = np.load(file=directory+'50/X_filtered.npy')\n",
    "y_filtered_50 = np.load(file=directory+'50/Y_filtered.npy')\n",
    "X_raw_50_only_segmented = np.load(file=directory+'50/X_raw_only_segmented.npy')\n",
    "X_filtered_50_only_segmented = np.load(file=directory+'50/X_filtered_only_segmented.npy')\n",
    "with open(directory+'50/labels','rb') as fp:\n",
    "    columns_50 = pickle.load(fp)\n",
    "    \n",
    "\n",
    "X_raw_100 = np.load(file=directory+'100/X_raw.npy')\n",
    "y_raw_100 = np.load(file=directory+'100/Y_raw.npy')\n",
    "X_filtered_100 = np.load(file=directory+'100/X_filtered.npy')\n",
    "y_filtered_100 = np.load(file=directory+'100/Y_filtered.npy')\n",
    "X_raw_100_only_segmented = np.load(file=directory+'100/X_raw_only_segmented.npy')\n",
    "with open(directory+'100/labels','rb') as fp:\n",
    "    columns_100 = pickle.load(fp)\n",
    "   \n",
    "\n",
    "X_raw_150 = np.load(file=directory+'150/X_raw.npy')\n",
    "y_raw_150 = np.load(file=directory+'150/Y_raw.npy')\n",
    "X_filtered_150 = np.load(file=directory+'150/X_filtered.npy')\n",
    "y_filtered_150 = np.load(file=directory+'150/Y_filtered.npy')\n",
    "X_raw_150_only_segmented = np.load(file=directory+'150/X_raw_only_segmented.npy')\n",
    "with open(directory+'150/labels','rb') as fp:\n",
    "    columns_150 = pickle.load(fp)\n",
    "    \n",
    "\n",
    "X_raw_200 = np.load(file=directory+'200/X_raw.npy')\n",
    "y_raw_200 = np.load(file=directory+'200/Y_raw.npy')\n",
    "X_filtered_200 = np.load(file=directory+'200/X_filtered.npy')\n",
    "y_filtered_200 = np.load(file=directory+'200/Y_filtered.npy')\n",
    "X_raw_200_only_segmented = np.load(file=directory+'200/X_raw_only_segmented.npy')\n",
    "with open(directory+'200/labels','rb') as fp:\n",
    "    columns_200 = pickle.load(fp)\n",
    "    \n",
    "X_raw_250 = np.load(file=directory+'250/X_raw.npy')\n",
    "y_raw_250 = np.load(file=directory+'250/Y_raw.npy')\n",
    "X_filtered_250 = np.load(file=directory+'250/X_filtered.npy')\n",
    "y_filtered_250 = np.load(file=directory+'250/Y_filtered.npy')\n",
    "X_raw_250_only_segmented = np.load(file=directory+'250/X_raw_only_segmented.npy')\n",
    "with open(directory+'250/labels','rb') as fp:\n",
    "    columns_250 = pickle.load(fp)\n",
    "    \n",
    "X_raw_300 = np.load(file=directory+'300/X_raw.npy')\n",
    "y_raw_300 = np.load(file=directory+'300/Y_raw.npy')\n",
    "X_filtered_300 = np.load(file=directory+'300/X_filtered.npy')\n",
    "y_filtered_300 = np.load(file=directory+'300/Y_filtered.npy')\n",
    "X_raw_300_only_segmented = np.load(file=directory+'300/X_raw_only_segmented.npy')\n",
    "with open(directory+'300/labels','rb') as fp:\n",
    "    columns_300 = pickle.load(fp)\n",
    "    \n",
    "X_raw_350 = np.load(file=directory+'350/X_raw.npy')\n",
    "y_raw_350 = np.load(file=directory+'350/Y_raw.npy')\n",
    "X_filtered_350 = np.load(file=directory+'350/X_filtered.npy')\n",
    "y_filtered_350 = np.load(file=directory+'350/Y_filtered.npy')\n",
    "X_raw_350_only_segmented = np.load(file=directory+'350/X_raw_only_segmented.npy')\n",
    "with open(directory+'350/labels','rb') as fp:\n",
    "    columns_350 = pickle.load(fp)\n",
    "    \n",
    "\n",
    "\n",
    "\n",
    "\n"
   ]
  },
  {
   "cell_type": "markdown",
   "id": "7bc8b218",
   "metadata": {},
   "source": [
    "## Analysis 1 "
   ]
  },
  {
   "cell_type": "markdown",
   "id": "d0275ae0",
   "metadata": {},
   "source": [
    "###  Visualize mutual information scores for each segment length"
   ]
  },
  {
   "cell_type": "code",
   "execution_count": null,
   "id": "1b4707fa",
   "metadata": {},
   "outputs": [],
   "source": [
    "mi_scores_raw_50 = mutual_info_classif(X_raw_50,y_raw_50.ravel())\n",
    "mi_scores_raw_50 = pd.Series(mi_scores_raw_50, name=\"Raw 50\", index=columns_50)\n",
    "mi_scores_filtered_50 = mutual_info_classif(X_filtered_50,y_filtered_50.ravel())\n",
    "mi_scores_filtered_50 = pd.Series(mi_scores_filtered_50,name=\"Filtered 50\",index=columns_50)\n",
    "\n",
    "mi_scores_raw_100 = mutual_info_classif(X_raw_100,y_raw_100.ravel())\n",
    "mi_scores_raw_100 = pd.Series(mi_scores_raw_100, name=\"Raw 100\", index=columns_100)\n",
    "mi_scores_filtered_100 = mutual_info_classif(X_filtered_100,y_filtered_100.ravel())\n",
    "mi_scores_filtered_100 = pd.Series(mi_scores_filtered_100,name=\"Filtered 100\",index=columns_100)\n",
    "\n",
    "mi_scores_raw_150 = mutual_info_classif(X_raw_150,y_raw_150.ravel())\n",
    "mi_scores_raw_150 = pd.Series(mi_scores_raw_150, name=\"Raw 150\", index=columns_150)\n",
    "mi_scores_filtered_150 = mutual_info_classif(X_filtered_150,y_filtered_150.ravel())\n",
    "mi_scores_filtered_150 = pd.Series(mi_scores_filtered_150,name=\"Filtered 150\",index=columns_150)\n",
    "\n",
    "mi_scores_raw_200 = mutual_info_classif(X_raw_200,y_raw_200.ravel())\n",
    "mi_scores_raw_200 = pd.Series(mi_scores_raw_200, name=\"Raw 200\", index=columns_200)\n",
    "mi_scores_filtered_200 = mutual_info_classif(X_filtered_200,y_filtered_200.ravel())\n",
    "mi_scores_filtered_200 = pd.Series(mi_scores_filtered_200,name=\"Filtered 200\",index=columns_200)\n",
    "\n",
    "mi_scores_raw_250 = mutual_info_classif(X_raw_250,y_raw_250.ravel())\n",
    "mi_scores_raw_250 = pd.Series(mi_scores_raw_250, name=\"Raw 250\", index=columns_250)\n",
    "mi_scores_filtered_250 = mutual_info_classif(X_filtered_250,y_filtered_250.ravel())\n",
    "mi_scores_filtered_250 = pd.Series(mi_scores_filtered_250,name=\"Filtered 200\",index=columns_250)\n",
    "\n",
    "mi_scores_raw_300 = mutual_info_classif(X_raw_300,y_raw_300.ravel())\n",
    "mi_scores_raw_300 = pd.Series(mi_scores_raw_300, name=\"Raw 300\", index=columns_300)\n",
    "mi_scores_filtered_300 = mutual_info_classif(X_filtered_300,y_filtered_300.ravel())\n",
    "mi_scores_filtered_300 = pd.Series(mi_scores_filtered_300,name=\"Filtered 300\",index=columns_300)\n",
    "\n"
   ]
  },
  {
   "cell_type": "code",
   "execution_count": null,
   "id": "e75c6edd",
   "metadata": {},
   "outputs": [],
   "source": [
    "df_mi_scores = pd.concat([mi_scores_raw_50,\n",
    "                          mi_scores_filtered_50,\n",
    "                          mi_scores_raw_100,\n",
    "                          mi_scores_filtered_100,\n",
    "                          mi_scores_raw_150,\n",
    "                          mi_scores_filtered_150,\n",
    "                          mi_scores_raw_200,\n",
    "                          mi_scores_filtered_200,\n",
    "                          mi_scores_raw_250,\n",
    "                          mi_scores_filtered_250,\n",
    "                          mi_scores_raw_300,\n",
    "                          mi_scores_filtered_300,],axis=1)\n",
    "df_mi_scores"
   ]
  },
  {
   "cell_type": "code",
   "execution_count": null,
   "id": "07b6a0b9",
   "metadata": {},
   "outputs": [],
   "source": [
    "sns.heatmap(df_mi_scores,)"
   ]
  },
  {
   "cell_type": "markdown",
   "id": "77cd24d6",
   "metadata": {},
   "source": [
    "## Analysis 2"
   ]
  },
  {
   "cell_type": "markdown",
   "id": "649a6fe2",
   "metadata": {},
   "source": [
    "### Visualize Model Performances"
   ]
  },
  {
   "cell_type": "markdown",
   "id": "ab72350b",
   "metadata": {},
   "source": [
    "#### Training Artificial Neural Net (With All Features)"
   ]
  },
  {
   "cell_type": "code",
   "execution_count": null,
   "id": "3dc1e4f9",
   "metadata": {},
   "outputs": [],
   "source": [
    "#Initializing models\n",
    "ann_50_raw = ANN(X_raw_50,y_raw_50,'ANN 50 Raw',lr=0.1)\n",
    "#ann_100_raw = ANN(X_raw_100_only_segmented,y_raw_100,'ANN 100 Raw')\n",
    "#ann_150_raw = ANN(X_raw_150_only_segmented,y_raw_150,'ANN 150 Raw')\n",
    "#ann_200_raw = ANN(X_raw_200_only_segmented,y_raw_200,'ANN 200 Raw')\n"
   ]
  },
  {
   "cell_type": "code",
   "execution_count": null,
   "id": "1cf479a4",
   "metadata": {},
   "outputs": [],
   "source": [
    "X_raw_50.shape"
   ]
  },
  {
   "cell_type": "code",
   "execution_count": null,
   "id": "9fed4699",
   "metadata": {},
   "outputs": [],
   "source": [
    "X_filtered_50_only_segmented.shape"
   ]
  },
  {
   "cell_type": "code",
   "execution_count": null,
   "id": "826adf86",
   "metadata": {},
   "outputs": [],
   "source": [
    "svc_50_raw = SVM(X_raw_50,y_raw_50,'SVC 50 Raw')\n",
    "svc_50_filtered = SVM(X_filtered_50,y_filtered_50,'SVC 50 Filtered')\n",
    "svc_100_raw = SVM(X_raw_100,y_filtered_100,'SVC 100 Raw')\n",
    "svc_100_filtered = SVM(X_filtered_100,y_raw_100,'SVC 100 Filtered')\n",
    "svc_150_raw = SVM(X_raw_150,y_raw_150,'SVC 150 Raw')\n",
    "svc_150_filtered = SVM(X_filtered_150,y_filtered_150,'SVC 150 Filtered')\n",
    "svc_200_raw = SVM(X_raw_200,y_raw_200,'SVC 200 Raw')\n",
    "svc_200_filtered = SVM(X_filtered_200,y_filtered_200,'SVC 200 FIltered')\n",
    "svc_250_raw = SVM(X_raw_250,y_raw_250,'SVC 250 Raw')\n",
    "svc_250_filtered = SVM(X_filtered_250,y_filtered_250,'SVC 250 FIltered')\n",
    "svc_300_raw = SVM(X_raw_300,y_raw_300,'SVC 300 Raw')\n",
    "svc_300_filtered = SVM(X_filtered_300,y_filtered_300,'SVC 300 FIltered')"
   ]
  },
  {
   "cell_type": "code",
   "execution_count": 5,
   "id": "9397d750",
   "metadata": {},
   "outputs": [],
   "source": [
    "rf_50_raw = RF(X_raw_50,y_raw_50,'RF 50 Raw')\n",
    "rf_50_filtered = RF(X_filtered_50,y_filtered_50,'RF 50 Filtered')\n",
    "rf_100_raw = RF(X_raw_100,y_filtered_100,'RF 100 Raw')\n",
    "rf_100_filtered = RF(X_filtered_100,y_raw_100,'RF 100 Filtered')\n",
    "rf_150_raw = RF(X_raw_150,y_raw_150,'RF 150 Raw')\n",
    "rf_150_filtered = RF(X_filtered_150,y_filtered_150,'RF 150 Filtered')\n",
    "rf_200_raw = RF(X_raw_200,y_raw_200,'RF 200 Raw')\n",
    "rf_200_filtered = RF(X_filtered_200,y_filtered_200,'RF 200 FIltered')\n",
    "rf_250_raw = RF(X_raw_250,y_raw_250,'RF 250 Raw')\n",
    "rf_250_filtered = RF(X_filtered_250,y_filtered_250,'RF 250 FIltered')\n",
    "rf_300_raw = RF(X_raw_300,y_raw_300,'RF 300 Raw')\n",
    "rf_300_filtered = RF(X_filtered_300,y_filtered_300,'RF 300 FIltered')\n",
    "rf_350_raw = RF(X_raw_350,y_raw_350,'RF 350 raw')\n",
    "rf_350_filtered = RF(X_filtered_350,y_filtered_350,'RF 350 FIltered')"
   ]
  },
  {
   "cell_type": "code",
   "execution_count": null,
   "id": "3de6138a",
   "metadata": {},
   "outputs": [],
   "source": [
    "print(f\"Now Training for window length:50 Raw & Filtered\")\n",
    "print('Training Raw')\n",
    "val_50_raw_losses = ann_50_raw.train()\n",
    "#val_100_raw_losses = ann_100_raw.train()\n",
    "#val_150_raw_losses = ann_150_raw.train()\n",
    "#val_200_raw_losses = ann_200_raw.train()"
   ]
  },
  {
   "cell_type": "code",
   "execution_count": null,
   "id": "94c712b4",
   "metadata": {},
   "outputs": [],
   "source": [
    "test_accuracy_50_raw = ann_50_raw.test()\n",
    "print(test_accuracy_50_raw)\n",
    "#print(test_accuracy_100_raw)\n",
    "#print(test_accuracy_150_raw)\n",
    "#print(test_accuracy_200_raw)"
   ]
  },
  {
   "cell_type": "code",
   "execution_count": null,
   "id": "1e55ffcb",
   "metadata": {},
   "outputs": [],
   "source": [
    "print(f\"Now Training for window length:50 Raw & Filtered\")\n",
    "print('Training Raw')\n",
    "svc_50_raw.train()\n",
    "print('Training Filtered')\n",
    "svc_50_filtered.train()\n",
    "test_accuracy_50_raw = svc_50_raw.test()\n",
    "test_accuracy_50_filtered = svc_50_filtered.test()\n",
    "\n",
    "\n",
    "print(f\"Now Training for window length:50 Raw & Filtered\")\n",
    "print('Training Raw')\n",
    "svc_100_raw.train()\n",
    "print('Training Filtered')\n",
    "svc_100_filtered.train()\n",
    "svc_100_raw.test()\n",
    "svc_100_filtered.test()\n",
    "\n",
    "print(f\"Now Training for window length:50 Raw & Filtered\")\n",
    "print('Training Raw')\n",
    "svc_150_raw.train()\n",
    "print('Training Filtered')\n",
    "svc_150_filtered.train()\n",
    "svc_150_raw.test()\n",
    "svc_150_filtered.test()\n",
    "\n",
    "print(f\"Now Training for window length:50 Raw & Filtered\")\n",
    "print('Training Raw')\n",
    "svc_200_raw.train()\n",
    "print('Training Filtered')\n",
    "svc_200_filtered.train()\n",
    "svc_200_raw.test()\n",
    "svc_200_filtered.test()\n",
    "\n",
    "print(f\"Now Training for window length:50 Raw & Filtered\")\n",
    "print('Training Raw')\n",
    "svc_250_raw.train()\n",
    "print('Training Filtered')\n",
    "svc_250_filtered.train()\n",
    "svc_250_raw.test()\n",
    "svc_250_filtered.test()\n",
    "\n",
    "print(f\"Now Training for window length:50 Raw & Filtered\")\n",
    "print('Training Raw')\n",
    "svc_300_raw.train()\n",
    "print('Training Filtered')\n",
    "svc_300_filtered.train()\n",
    "svc_300_raw.test()\n",
    "svc_300_filtered.test()\n",
    "\n",
    "\n",
    "\n"
   ]
  },
  {
   "cell_type": "code",
   "execution_count": 7,
   "id": "305167ae",
   "metadata": {},
   "outputs": [
    {
     "name": "stdout",
     "output_type": "stream",
     "text": [
      "Now Training for window length:50 Raw & Filtered\n",
      "Training Raw\n",
      "Fitting 2 folds for each of 10 candidates, totalling 20 fits\n",
      "Training Filtered\n",
      "Fitting 2 folds for each of 10 candidates, totalling 20 fits\n",
      "RF 50 Raw  Test Accuracy:0.7090431004915971\n",
      "RF 50 Filtered  Test Accuracy:0.6810334971990397\n",
      "Now Training for window length:50 Raw & Filtered\n",
      "Training Raw\n",
      "Fitting 2 folds for each of 10 candidates, totalling 20 fits\n",
      "Training Filtered\n",
      "Fitting 2 folds for each of 10 candidates, totalling 20 fits\n",
      "RF 100 Raw  Test Accuracy:0.7650256488783401\n",
      "RF 100 Filtered  Test Accuracy:0.734323558686165\n",
      "Now Training for window length:50 Raw & Filtered\n",
      "Training Raw\n",
      "Fitting 2 folds for each of 10 candidates, totalling 20 fits\n",
      "Training Filtered\n",
      "Fitting 2 folds for each of 10 candidates, totalling 20 fits\n",
      "RF 150 Raw  Test Accuracy:0.7907003576785508\n",
      "RF 150 Filtered  Test Accuracy:0.7451251874927888\n",
      "Now Training for window length:50 Raw & Filtered\n",
      "Training Raw\n",
      "Fitting 2 folds for each of 10 candidates, totalling 20 fits\n",
      "Training Filtered\n",
      "Fitting 2 folds for each of 10 candidates, totalling 20 fits\n",
      "RF 200 Raw  Test Accuracy:0.7927357032457496\n",
      "RF 200 FIltered  Test Accuracy:0.7576506955177743\n",
      "Now Training for window length:50 Raw & Filtered\n",
      "Training Raw\n",
      "Fitting 2 folds for each of 10 candidates, totalling 20 fits\n",
      "Training Filtered\n",
      "Fitting 2 folds for each of 10 candidates, totalling 20 fits\n",
      "RF 250 Raw  Test Accuracy:0.7927018633540373\n",
      "RF 250 FIltered  Test Accuracy:0.7643633540372671\n",
      "Now Training for window length:50 Raw & Filtered\n",
      "Training Raw\n",
      "Fitting 2 folds for each of 10 candidates, totalling 20 fits\n",
      "Training Filtered\n",
      "Fitting 2 folds for each of 10 candidates, totalling 20 fits\n",
      "RF 300 Raw  Test Accuracy:0.8036048689138576\n",
      "RF 300 FIltered  Test Accuracy:0.7689606741573034\n",
      "Now Training for window length:50 Raw & Filtered\n",
      "Training Raw\n",
      "Fitting 2 folds for each of 10 candidates, totalling 20 fits\n",
      "Training Filtered\n",
      "Fitting 2 folds for each of 10 candidates, totalling 20 fits\n",
      "RF 350 raw  Test Accuracy:0.7981902933918289\n",
      "RF 350 FIltered  Test Accuracy:0.765012338908692\n"
     ]
    },
    {
     "data": {
      "text/plain": [
       "0.765012338908692"
      ]
     },
     "execution_count": 7,
     "metadata": {},
     "output_type": "execute_result"
    }
   ],
   "source": [
    "print(f\"Now Training for window length:50 Raw & Filtered\")\n",
    "print('Training Raw')\n",
    "rf_50_raw.train()\n",
    "print('Training Filtered')\n",
    "rf_50_filtered.train()\n",
    "test_accuracy_50_raw = rf_50_raw.test()\n",
    "test_accuracy_50_filtered = rf_50_filtered.test()\n",
    "\n",
    "\n",
    "print(f\"Now Training for window length:50 Raw & Filtered\")\n",
    "print('Training Raw')\n",
    "rf_100_raw.train()\n",
    "print('Training Filtered')\n",
    "rf_100_filtered.train()\n",
    "rf_100_raw.test()\n",
    "rf_100_filtered.test()\n",
    "\n",
    "print(f\"Now Training for window length:50 Raw & Filtered\")\n",
    "print('Training Raw')\n",
    "rf_150_raw.train()\n",
    "print('Training Filtered')\n",
    "rf_150_filtered.train()\n",
    "rf_150_raw.test()\n",
    "rf_150_filtered.test()\n",
    "\n",
    "print(f\"Now Training for window length:50 Raw & Filtered\")\n",
    "print('Training Raw')\n",
    "rf_200_raw.train()\n",
    "print('Training Filtered')\n",
    "rf_200_filtered.train()\n",
    "rf_200_raw.test()\n",
    "rf_200_filtered.test()\n",
    "\n",
    "print(f\"Now Training for window length:50 Raw & Filtered\")\n",
    "print('Training Raw')\n",
    "rf_250_raw.train()\n",
    "print('Training Filtered')\n",
    "rf_250_filtered.train()\n",
    "rf_250_raw.test()\n",
    "rf_250_filtered.test()\n",
    "\n",
    "print(f\"Now Training for window length:50 Raw & Filtered\")\n",
    "print('Training Raw')\n",
    "rf_300_raw.train()\n",
    "print('Training Filtered')\n",
    "rf_300_filtered.train()\n",
    "rf_300_raw.test()\n",
    "rf_300_filtered.test()\n",
    "\n",
    "print(f\"Now Training for window length:50 Raw & Filtered\")\n",
    "print('Training Raw')\n",
    "rf_350_raw.train()\n",
    "print('Training Filtered')\n",
    "rf_350_filtered.train()\n",
    "rf_350_raw.test()\n",
    "rf_350_filtered.test()"
   ]
  },
  {
   "cell_type": "code",
   "execution_count": null,
   "id": "e7f65955",
   "metadata": {},
   "outputs": [],
   "source": [
    "print(rf_50_raw.model.get_params())\n",
    "print(rf_100_raw.model.get_params())\n",
    "print(rf_150_raw.model.get_params())\n",
    "print(rf_200_raw.model.get_params())\n",
    "print(rf_250_raw.model.get_params())\n",
    "print(rf_300_raw.model.get_params())\n",
    "print(rf_350_raw.model.get_params())"
   ]
  },
  {
   "cell_type": "markdown",
   "id": "8b797b8c",
   "metadata": {},
   "source": [
    "#### Ploting losses"
   ]
  },
  {
   "cell_type": "code",
   "execution_count": null,
   "id": "870933b1",
   "metadata": {},
   "outputs": [],
   "source": [
    "#ploting validation losses during the training phase\n",
    "labels = list(val_50_raw_losses.keys())\n",
    "\n",
    "plt.plot(labels,list(val_50_raw_losses.values()),label = '50_raw')\n",
    "plt.xticks(rotation=90)\n",
    "plt.tight_layout()"
   ]
  },
  {
   "cell_type": "code",
   "execution_count": null,
   "id": "193d1374",
   "metadata": {},
   "outputs": [],
   "source": [
    "'''\n",
    "plt.plot(labels,list(val_50_filtered_losses.values()),label = '50 filtered')\n",
    "\n",
    "plt.plot(labels,list(val_100_raw_losses.values()),label = '100_raw')\n",
    "plt.plot(labels,list(val_100_filtered_losses.values()),label = '100 filtered')\n",
    "\n",
    "plt.plot(labels,list(val_150_raw_losses.values()),label = '150_raw')\n",
    "plt.plot(labels,list(val_150_filtered_losses.values()),label = '150 filtered')\n",
    "\n",
    "plt.plot(labels,list(val_200_raw_losses.values()),label = '200_raw')\n",
    "plt.plot(labels,list(val_200_filtered_losses.values()),label = '200 filtered')\n",
    "\n",
    "plt.plot(labels,list(val_250_raw_losses.values()),label = '250_raw')\n",
    "plt.plot(labels,list(val_250_filtered_losses.values()),label = '250 filtered')\n",
    "\n",
    "plt.plot(labels,list(val_300_raw_losses.values()),label = '300_raw')\n",
    "plt.plot(labels,list(val_300_filtered_losses.values()),label = '300 filtered')\n",
    "\n",
    "plt.legend(bbox_to_anchor=(1.02, 0.1), loc='upper left', borderaxespad=0)\n",
    "plt.title('Validation Loss during Training')\n",
    "'''"
   ]
  },
  {
   "cell_type": "code",
   "execution_count": null,
   "id": "98885865",
   "metadata": {},
   "outputs": [],
   "source": [
    "#plotting training accuracy\n",
    "labels = ['50_raw','50_filtered','100_raw','100_filtered','150_raw','150_filtered','200_raw','200_filtered','250_raw','250_filtered','300_raw','300_filtered']\n",
    "plt.xticks(rotation=90)\n",
    "y = [test_accuracy_50_raw,\n",
    "     test_accuracy_50_filtered,\n",
    "     test_accuracy_100_raw,\n",
    "     test_accuracy_100_filtered,\n",
    "     test_accuracy_150_raw,\n",
    "     test_accuracy_150_filtered,\n",
    "     test_accuracy_200_raw,\n",
    "     test_accuracy_200_filtered,\n",
    "     test_accuracy_250_raw,\n",
    "     test_accuracy_250_filtered,\n",
    "     test_accuracy_300_raw,\n",
    "     test_accuracy_300_filtered]\n",
    "plt.barh(labels,y)\n",
    "plt.title('Test Accuracy')"
   ]
  },
  {
   "cell_type": "code",
   "execution_count": null,
   "id": "6da52e7e",
   "metadata": {},
   "outputs": [],
   "source": [
    "#plot confusion matrix\n",
    "def get_confusion_matrix(X,y_true,model):\n",
    "    predictions = model.model.predict(X)\n",
    "    cm = confusion_matrix(y_true,predictions,labels=model.categories)\n",
    "    display = ConfusionMatrixDisplay(cm,display_labels=[label_mappings[int(i)] for i in model.categories])\n",
    "    display.plot()\n",
    "\n",
    "get_confusion_matrix(X_raw_50,y_raw_50,rf_50_raw)\n",
    "get_confusion_matrix(X_filtered_100,y_filtered_100,rf_100_filtered)\n",
    "get_confusion_matrix(X_filtered_150,y_filtered_150,rf_150_filtered)\n",
    "get_confusion_matrix(X_filtered_200,y_filtered_200,rf_200_filtered)\n",
    "get_confusion_matrix(X_filtered_250,y_filtered_250,rf_250_filtered)\n",
    "get_confusion_matrix(X_filtered_300,y_filtered_300,rf_300_filtered)\n",
    "\n",
    "\n"
   ]
  },
  {
   "cell_type": "code",
   "execution_count": null,
   "id": "d70fdd39",
   "metadata": {},
   "outputs": [],
   "source": [
    "def get_classification_report(X,y_true,model):\n",
    "    predictions = model.model.predict(X)\n",
    "    cr = classification_report(y_true,predictions,target_names=[str(i) for i in model.categories])\n",
    "    print(cr)\n",
    "get_classification_report(X_raw_50,y_raw_50,rf_50_raw)\n",
    "get_classification_report(X_filtered_50,y_filtered_50,rf_50_filtered)\n",
    "get_classification_report(X_raw_100,y_raw_100,rf_100_raw)\n",
    "get_classification_report(X_filtered_100,y_filtered_100,rf_100_filtered)\n",
    "get_classification_report(X_raw_150,y_raw_150,rf_150_raw)\n",
    "get_classification_report(X_filtered_150,y_filtered_150,rf_150_filtered)\n",
    "get_classification_report(X_raw_200,y_raw_200,rf_200_raw)\n",
    "get_classification_report(X_filtered_50,y_filtered_50,rf_50_filtered)\n",
    "    "
   ]
  },
  {
   "cell_type": "code",
   "execution_count": null,
   "id": "8dc851fb",
   "metadata": {},
   "outputs": [],
   "source": [
    "torch.cuda.is_available()"
   ]
  },
  {
   "cell_type": "code",
   "execution_count": null,
   "id": "fd554b98",
   "metadata": {},
   "outputs": [],
   "source": [
    "np.unique(svc_100_filtered.X_test)"
   ]
  },
  {
   "cell_type": "code",
   "execution_count": null,
   "id": "e031f41e",
   "metadata": {},
   "outputs": [],
   "source": []
  },
  {
   "cell_type": "code",
   "execution_count": null,
   "id": "3fb7c18f",
   "metadata": {},
   "outputs": [],
   "source": [
    "rf_100_raw.X_test.shape\n"
   ]
  },
  {
   "cell_type": "code",
   "execution_count": null,
   "id": "6d7bd85e",
   "metadata": {},
   "outputs": [],
   "source": [
    "matches = 0 \n",
    "for i,y in enumerate(rf_100_raw.y_test):\n",
    "    \n",
    "    print(rf_100_raw.X_test[i].shape)\n",
    "    prediction = rf_100_raw.model.predict(np.reshape(rf_100_raw.X_test[i],(1,-1)))\n",
    "    print(f'Actual: {y} Prediction: {prediction}')\n",
    "    if prediction == y:\n",
    "        matches+=1\n",
    "        \n",
    "matches/rf_100_raw.y_test.shape[0]"
   ]
  },
  {
   "cell_type": "code",
   "execution_count": null,
   "id": "3142794f",
   "metadata": {
    "scrolled": true
   },
   "outputs": [],
   "source": [
    "ann_50_raw.X_train.shape"
   ]
  },
  {
   "cell_type": "code",
   "execution_count": null,
   "id": "88d2b654",
   "metadata": {},
   "outputs": [],
   "source": []
  }
 ],
 "metadata": {
  "kernelspec": {
   "display_name": "Python 3 (ipykernel)",
   "language": "python",
   "name": "python3"
  },
  "language_info": {
   "codemirror_mode": {
    "name": "ipython",
    "version": 3
   },
   "file_extension": ".py",
   "mimetype": "text/x-python",
   "name": "python",
   "nbconvert_exporter": "python",
   "pygments_lexer": "ipython3",
   "version": "3.7.16"
  }
 },
 "nbformat": 4,
 "nbformat_minor": 5
}
