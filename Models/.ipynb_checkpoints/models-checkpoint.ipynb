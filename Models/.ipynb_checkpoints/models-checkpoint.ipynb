{
 "cells": [
  {
   "cell_type": "code",
   "execution_count": 1,
   "metadata": {},
   "outputs": [
    {
     "name": "stdout",
     "output_type": "stream",
     "text": [
      "C:\\Users\\Abhi\\Desktop\\acads\\5-2_Thesis\\repos\\Thesis_repos\\Bachelor_Thesis\n"
     ]
    }
   ],
   "source": [
    "cd .."
   ]
  },
  {
   "cell_type": "code",
   "execution_count": 2,
   "metadata": {},
   "outputs": [],
   "source": [
    "from model import ANN\n",
    "from torch import nn\n",
    "import torch"
   ]
  },
  {
   "cell_type": "markdown",
   "metadata": {},
   "source": [
    "# Models"
   ]
  },
  {
   "cell_type": "markdown",
   "metadata": {},
   "source": [
    "## Artificial Neural Net "
   ]
  },
  {
   "cell_type": "code",
   "execution_count": 3,
   "metadata": {},
   "outputs": [
    {
     "name": "stdout",
     "output_type": "stream",
     "text": [
      "subject1_labels.csv\n"
     ]
    }
   ],
   "source": [
    "ann = ANN()\n",
    "learning_rate = 1e-3\n",
    "batch_size = 64\n",
    "epochs = 5\n",
    "loss_fn = nn.CrossEntropyLoss()\n",
    "optimizer = torch.optim.SGD(ann.model.parameters(), lr=learning_rate)"
   ]
  },
  {
   "cell_type": "code",
   "execution_count": 4,
   "metadata": {},
   "outputs": [
    {
     "name": "stdout",
     "output_type": "stream",
     "text": [
      "Fold 1:\n",
      "Current epoch: 1\n",
      "Current epoch: 2\n",
      "Current epoch: 3\n",
      "Current epoch: 4\n",
      "Current epoch: 5\n",
      "Fold 2:\n",
      "Current epoch: 1\n",
      "Current epoch: 2\n",
      "Current epoch: 3\n",
      "Current epoch: 4\n",
      "Current epoch: 5\n",
      "Fold 3:\n",
      "Current epoch: 1\n",
      "Current epoch: 2\n",
      "Current epoch: 3\n",
      "Current epoch: 4\n",
      "Current epoch: 5\n",
      "Fold 4:\n",
      "Current epoch: 1\n",
      "Current epoch: 2\n",
      "Current epoch: 3\n",
      "Current epoch: 4\n",
      "Current epoch: 5\n",
      "Fold 5:\n",
      "Current epoch: 1\n",
      "Current epoch: 2\n",
      "Current epoch: 3\n",
      "Current epoch: 4\n",
      "Current epoch: 5\n",
      "{'Fold_1_Epoch_1': 2.9444286823272705, 'Fold_1_Epoch_2': 2.9444286823272705, 'Fold_1_Epoch_3': 2.9444289207458496, 'Fold_1_Epoch_4': 2.9444289207458496, 'Fold_1_Epoch_5': 2.9444291591644287, 'Fold_2_Epoch_1': 2.944512367248535, 'Fold_2_Epoch_2': 2.9445126056671143, 'Fold_2_Epoch_3': 2.9445126056671143, 'Fold_2_Epoch_4': 2.9445126056671143, 'Fold_2_Epoch_5': 2.9445126056671143, 'Fold_3_Epoch_1': 2.9444851875305176, 'Fold_3_Epoch_2': 2.9444851875305176, 'Fold_3_Epoch_3': 2.9444851875305176, 'Fold_3_Epoch_4': 2.9444854259490967, 'Fold_3_Epoch_5': 2.9444854259490967, 'Fold_4_Epoch_1': 2.9445016384124756, 'Fold_4_Epoch_2': 2.9445013999938965, 'Fold_4_Epoch_3': 2.9445013999938965, 'Fold_4_Epoch_4': 2.9445013999938965, 'Fold_4_Epoch_5': 2.9445016384124756, 'Fold_5_Epoch_1': 2.944425106048584, 'Fold_5_Epoch_2': 2.944425344467163, 'Fold_5_Epoch_3': 2.944425344467163, 'Fold_5_Epoch_4': 2.944425582885742, 'Fold_5_Epoch_5': 2.944425344467163}\n"
     ]
    }
   ],
   "source": [
    "#train ANN\n",
    "ann.train(\n",
    "    epochs=5,\n",
    "    learning_rate = learning_rate,\n",
    "    optimizer=optimizer,\n",
    "    loss_fn = loss_fn,\n",
    "    batch_size = 64)\n",
    "ann.test()"
   ]
  },
  {
   "cell_type": "code",
   "execution_count": 5,
   "metadata": {},
   "outputs": [
    {
     "name": "stdout",
     "output_type": "stream",
     "text": [
      " Volume in drive C is Windows-SSD\n",
      " Volume Serial Number is AA49-FBDD\n",
      "\n",
      " Directory of C:\\Users\\Abhi\\Desktop\\acads\\5-2_Thesis\\repos\\Thesis_repos\\Bachelor_Thesis\n",
      "\n",
      "06-04-2023  08:51    <DIR>          .\n",
      "06-04-2023  08:51    <DIR>          ..\n",
      "22-03-2023  16:43    <DIR>          Demonstration\n",
      "10-03-2023  12:19             5,019 environment.yml\n",
      "03-04-2023  11:32    <DIR>          Experimental_Setup\n",
      "10-03-2023  10:07             1,085 LICENSE\n",
      "17-03-2023  14:05    <DIR>          logging\n",
      "12-04-2023  11:28    <DIR>          Models\n",
      "10-03-2023  12:44             1,896 README.md\n",
      "06-04-2023  08:51    <DIR>          Resources\n",
      "23-03-2023  10:51    <DIR>          Scripts\n",
      "               3 File(s)          8,000 bytes\n",
      "               8 Dir(s)  85,082,767,360 bytes free\n"
     ]
    }
   ],
   "source": [
    "ls"
   ]
  },
  {
   "cell_type": "code",
   "execution_count": null,
   "metadata": {},
   "outputs": [],
   "source": []
  }
 ],
 "metadata": {
  "kernelspec": {
   "display_name": "Python 3 (ipykernel)",
   "language": "python",
   "name": "python3"
  },
  "language_info": {
   "codemirror_mode": {
    "name": "ipython",
    "version": 3
   },
   "file_extension": ".py",
   "mimetype": "text/x-python",
   "name": "python",
   "nbconvert_exporter": "python",
   "pygments_lexer": "ipython3",
   "version": "3.7.16"
  }
 },
 "nbformat": 4,
 "nbformat_minor": 2
}
